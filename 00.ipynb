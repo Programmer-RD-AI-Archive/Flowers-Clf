{
 "cells": [
  {
   "cell_type": "code",
   "execution_count": 1,
   "id": "797693d3-0d2b-495c-a4a1-708fe31c394f",
   "metadata": {},
   "outputs": [],
   "source": [
    "from sklearn.model_selection import train_test_split\n",
    "import os,cv2\n",
    "import numpy as np\n",
    "import matplotlib.pyplot as plt\n",
    "from torch.nn import *\n",
    "import torch,torchvision\n",
    "from tqdm import tqdm\n",
    "device = 'cuda'\n",
    "PROJECT_NAME = 'Flowers-Clf'"
   ]
  },
  {
   "cell_type": "code",
   "execution_count": 2,
   "id": "740c1373-dbc4-4c22-9bb3-18d8a2dd5f42",
   "metadata": {},
   "outputs": [],
   "source": [
    "def load_data():\n",
    "    labels = {}\n",
    "    labels_r = {}\n",
    "    idx = -1\n",
    "    data = []\n",
    "    for folder in tqdm(os.listdir('./data/')):\n",
    "        idx += 1\n",
    "        labels[folder] = idx\n",
    "        for file in os.listdir(f'./data/{folder}/'):\n",
    "            img = cv2.imread(f'./data/{folder}/{file}')\n",
    "            img = cv2.resize(img,(112,112))\n",
    "            data.append([img/255.0,idx])\n",
    "    X = []\n",
    "    y = []\n",
    "    for d in data:\n",
    "        X.append(d[0])\n",
    "        y.append(d[1])\n",
    "    X_train,X_test,y_train,y_test = train_test_split(X,y,test_size=0.25,shuffle=False)\n",
    "    return X_train,X_test,y_train,y_test,X,y,labels,labels_r,idx,data"
   ]
  },
  {
   "cell_type": "code",
   "execution_count": 3,
   "id": "06b61549-e23d-4355-901c-d77f91c7bbac",
   "metadata": {},
   "outputs": [
    {
     "name": "stderr",
     "output_type": "stream",
     "text": [
      "100%|█████████████████████████████████████████████| 5/5 [00:06<00:00,  1.22s/it]\n"
     ]
    }
   ],
   "source": [
    "X_train,X_test,y_train,y_test,X,y,labels,labels_r,idx,data = load_data()"
   ]
  },
  {
   "cell_type": "code",
   "execution_count": 4,
   "id": "0d58bb3c-1f6c-4702-b63b-68c19422f353",
   "metadata": {},
   "outputs": [],
   "source": [
    "def get_loss(model,X,y,criterion):\n",
    "    preds = model(X)\n",
    "    loss = criterion(preds,y)\n",
    "    return loss.item()"
   ]
  },
  {
   "cell_type": "code",
   "execution_count": 5,
   "id": "cfb458d6-afff-418e-b6d4-a2512bfe7dec",
   "metadata": {},
   "outputs": [],
   "source": [
    "def get_accuracy(model,X,y):\n",
    "    correct = 0\n",
    "    total = 0\n",
    "    preds = model(X)\n",
    "    for pred,y_batch in zip(preds,y):\n",
    "        pred = int(torch.argmax(pred))\n",
    "        if pred == y_batch:\n",
    "            correct += 1\n",
    "        total += 1\n",
    "    acc = round(correct/total,3)*100\n",
    "    return acc"
   ]
  },
  {
   "cell_type": "code",
   "execution_count": 6,
   "id": "ae9957ed-cc0d-4eab-9e04-f16ee8b63144",
   "metadata": {},
   "outputs": [],
   "source": [
    "def get_pred(model):\n",
    "    model.eval()\n",
    "    for file in os.listdir('./test_data/'):\n",
    "        img = cv2.imread(f'./test_data/{file}')\n",
    "        img = cv2.resize(img,(112,112))\n",
    "        img = torch.from_numpy(np.array(img/255.0)).to(device).view(-1,3,112,112).float()\n",
    "        pred = model(img)\n",
    "        pred = torch.argmax(pred)\n",
    "        plt.figure(figsize=(12,6))\n",
    "        plt.imshow(img.view(112,112,3).cpu().detach().numpy())\n",
    "        plt.title(f'{labels[int(pred)]}')\n",
    "        plt.savefig(f'./preds/{file}')\n",
    "        plt.close()\n",
    "    model.train()"
   ]
  },
  {
   "cell_type": "code",
   "execution_count": 7,
   "id": "494c64f0-fa92-40c2-8831-a284bd648a4f",
   "metadata": {},
   "outputs": [],
   "source": [
    "\n",
    "class Model(Module):\n",
    "    def __init__(self):\n",
    "        super().__init__()\n",
    "        self.max_pool2d = MaxPool2d((2,2),(2,2))\n",
    "        self.activation = ReLU()\n",
    "        self.conv1 = Conv2d(3,6,(5,5))\n",
    "        self.conv1batchnorm = BatchNorm2d(6)\n",
    "        self.conv2 = Conv2d(6,9,(5,5))\n",
    "        self.conv2batchnorm = BatchNorm2d(9)\n",
    "        self.conv3 = Conv2d(9,12,(5,5))\n",
    "        self.conv3batchnorm = BatchNorm2d(12)\n",
    "        self.conv4 = Conv2d(12,15,(5,5))\n",
    "        self.conv4batchnorm = BatchNorm2d(15)\n",
    "        self.linear1 = Linear(15*3*3,512)\n",
    "        self.linear1batchnorm = BatchNorm1d(512)\n",
    "        self.linear2 = Linear(512,1024)\n",
    "        self.linear2batchnorm = BatchNorm1d(1024)\n",
    "        self.linear3 = Linear(1024,2048)\n",
    "        self.linear3batchnorm = BatchNorm1d(2048)\n",
    "        self.linear4 = Linear(2048,1024)\n",
    "        self.linear4batchnorm = BatchNorm1d(1024)\n",
    "        self.output = Linear(1024,3)\n",
    "    \n",
    "    def forward(self,X):\n",
    "        preds = self.max_pool2d(self.activation(self.conv1batchnorm(self.conv1(X))))\n",
    "        preds = self.max_pool2d(self.activation(self.conv2batchnorm(self.conv2(preds))))\n",
    "        preds = self.max_pool2d(self.activation(self.conv3batchnorm(self.conv3(preds))))\n",
    "        preds = self.max_pool2d(self.activation(self.conv4batchnorm(self.conv4(preds))))\n",
    "#         print(preds.shape)\n",
    "        preds = preds.view(-1,15*3*3)\n",
    "        preds =self.activation(self.linear1batchnorm(self.linear1(preds)))\n",
    "        preds =self.activation(self.linear2batchnorm(self.linear2(preds)))\n",
    "        preds =self.activation(self.linear3batchnorm(self.linear3(preds)))\n",
    "        preds =self.activation(self.linear4batchnorm(self.linear4(preds)))\n",
    "        preds = self.output(preds)\n",
    "        return preds"
   ]
  },
  {
   "cell_type": "code",
   "execution_count": 8,
   "id": "d21d57d7-c151-4125-9795-365cf5edf7f2",
   "metadata": {},
   "outputs": [],
   "source": [
    "model = Model().to(device)\n"
   ]
  },
  {
   "cell_type": "code",
   "execution_count": 9,
   "id": "be0310ea-09a5-4ef8-8932-bd8c14cf36b6",
   "metadata": {},
   "outputs": [],
   "source": [
    "criterion = CrossEntropyLoss()\n"
   ]
  },
  {
   "cell_type": "code",
   "execution_count": 10,
   "id": "f336aa22-2110-42e9-88d6-5325a3a04e68",
   "metadata": {},
   "outputs": [],
   "source": [
    "from torch.optim import *\n"
   ]
  },
  {
   "cell_type": "code",
   "execution_count": 11,
   "id": "c67b5cdd-9f1b-4256-8b0a-99044934d47d",
   "metadata": {},
   "outputs": [],
   "source": [
    "optimizer = Adam(model.parameters(),lr=0.001)\n"
   ]
  },
  {
   "cell_type": "code",
   "execution_count": 12,
   "id": "a9ab171f-a27a-4a68-9560-82964207124a",
   "metadata": {},
   "outputs": [],
   "source": [
    "epochs = 100\n"
   ]
  },
  {
   "cell_type": "code",
   "execution_count": 13,
   "id": "f4aa182d-625f-4be8-80e5-476f1813b618",
   "metadata": {},
   "outputs": [],
   "source": [
    "batch_size = 32\n"
   ]
  },
  {
   "cell_type": "code",
   "execution_count": 14,
   "id": "f899e5ff-9bf5-44c9-8242-16262c7094a2",
   "metadata": {},
   "outputs": [],
   "source": [
    "import wandb\n"
   ]
  },
  {
   "cell_type": "code",
   "execution_count": null,
   "id": "9606b673-195d-4e2a-b540-f4d503969e6f",
   "metadata": {},
   "outputs": [
    {
     "name": "stderr",
     "output_type": "stream",
     "text": [
      "\u001b[34m\u001b[1mwandb\u001b[0m: Currently logged in as: \u001b[33mranuga-d\u001b[0m (use `wandb login --relogin` to force relogin)\n"
     ]
    }
   ],
   "source": [
    "wandb.init(project=PROJECT_NAME,name='baseline')\n",
    "for _ in tqdm(range(epochs)):\n",
    "    for idx in range(0,len(X_train),batch_size):\n",
    "        X_batch = X_train[idx:idx+batch_size].view(-1,3,112,112).to(device).float()\n",
    "        y_batch = y_train[idx:idx+batch_size].to(device)\n",
    "        preds = model(X_batch)\n",
    "        loss = criterion(preds,y_batch)\n",
    "        optimizer.zero_grad()\n",
    "        loss.backward()\n",
    "        optimizer.step()\n",
    "    wandb.log({'Loss':get_loss(model,X_train,y_train,criterion)})\n",
    "    wandb.log({'Val Loss':get_loss(model,X_test,y_test,criterion)})\n",
    "    wandb.log({'Acc':get_accuracy(model,X_train,y_train)})\n",
    "    wandb.log({'Val Acc':get_accuracy(model,X_test,y_test)})\n",
    "    get_pred(model)\n",
    "    for file in os.listdir('./preds/'):\n",
    "        wandb.log({f'Img/{file}':wandb.Image(cv2.imread(f'./preds/{file}'))})\n",
    "wandb.finish()\n"
   ]
  },
  {
   "cell_type": "code",
   "execution_count": null,
   "id": "4c49974f-c31e-45fc-8da1-8ace3099bebe",
   "metadata": {},
   "outputs": [],
   "source": []
  }
 ],
 "metadata": {
  "kernelspec": {
   "display_name": "Python 3.7.3 64-bit ('base': conda)",
   "language": "python",
   "name": "python373jvsc74a57bd0210f9608a45c0278a93c9e0b10db32a427986ab48cfc0d20c139811eb78c4bbc"
  },
  "language_info": {
   "codemirror_mode": {
    "name": "ipython",
    "version": 3
   },
   "file_extension": ".py",
   "mimetype": "text/x-python",
   "name": "python",
   "nbconvert_exporter": "python",
   "pygments_lexer": "ipython3",
   "version": "3.7.11"
  }
 },
 "nbformat": 4,
 "nbformat_minor": 5
}
